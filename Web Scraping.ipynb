{
 "cells": [
  {
   "cell_type": "code",
   "execution_count": 2,
   "id": "a931ba1f",
   "metadata": {},
   "outputs": [],
   "source": [
    "import pandas as pd\n",
    "import requests\n",
    "from bs4 import BeautifulSoup"
   ]
  },
  {
   "cell_type": "code",
   "execution_count": 4,
   "id": "093e2042",
   "metadata": {},
   "outputs": [],
   "source": [
    "# URL of the webpage containing the table\n",
    "url = 'https://webpages.charlotte.edu/mscipion/'\n",
    "\n",
    "# Send a GET request to the URL\n",
    "response = requests.get(url)\n",
    "\n",
    "# Parse the HTML content\n",
    "soup = BeautifulSoup(response.text, 'html.parser')\n",
    "\n",
    "# Find the table\n",
    "table = soup.find('table')\n",
    "\n",
    "# Initialize lists to store data\n",
    "students = []\n",
    "languages = []\n",
    "experience_years = []\n",
    "\n",
    "# Extract rows from the table\n",
    "rows = table.find_all('tr')"
   ]
  },
  {
   "cell_type": "code",
   "execution_count": 5,
   "id": "383075cb",
   "metadata": {},
   "outputs": [],
   "source": [
    "# Iterate over rows and extract data\n",
    "for row in rows[1:]:  # skipping the header row\n",
    "    cols = row.find_all('td')\n",
    "    students.append(cols[0].text.strip())\n",
    "    languages.append(cols[1].text.strip())\n",
    "    experience_years.append(cols[2].text.strip())"
   ]
  },
  {
   "cell_type": "code",
   "execution_count": 6,
   "id": "9ffc3df1",
   "metadata": {},
   "outputs": [
    {
     "name": "stdout",
     "output_type": "stream",
     "text": [
      "  Student Favourite Computer Language Years of Experience\n",
      "0    Fred                      Kotlin                   4\n",
      "1   Paula                      Python                   2\n",
      "2   Ernst                        Java                   7\n",
      "3  Isabel                         C++                   3\n",
      "4    Tony                       Pearl                   7\n",
      "5   Maria                       Cobol                  15\n"
     ]
    }
   ],
   "source": [
    "# Create a pandas DataFrame\n",
    "data = {\n",
    "    'Student': students,\n",
    "    'Favourite Computer Language': languages,\n",
    "    'Years of Experience': experience_years\n",
    "}\n",
    "\n",
    "df = pd.DataFrame(data)\n",
    "\n",
    "print(df)"
   ]
  }
 ],
 "metadata": {
  "kernelspec": {
   "display_name": "Python 3 (ipykernel)",
   "language": "python",
   "name": "python3"
  },
  "language_info": {
   "codemirror_mode": {
    "name": "ipython",
    "version": 3
   },
   "file_extension": ".py",
   "mimetype": "text/x-python",
   "name": "python",
   "nbconvert_exporter": "python",
   "pygments_lexer": "ipython3",
   "version": "3.11.4"
  }
 },
 "nbformat": 4,
 "nbformat_minor": 5
}
